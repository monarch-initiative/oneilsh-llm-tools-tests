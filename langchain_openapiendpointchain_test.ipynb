{
 "cells": [
  {
   "cell_type": "markdown",
   "metadata": {},
   "source": [
    "## langchain.chains.OpenApiEndpointChain\n",
    "\n",
    "This seems to be a slightly more advanced API calling utility, which reads an OpenAPI spec. You can define \"operations\" from endpoints, but I'm not sure how to use multiple operations with planning, or if this is possible."
   ]
  },
  {
   "cell_type": "code",
   "execution_count": 1,
   "metadata": {},
   "outputs": [],
   "source": [
    "from langchain.tools import OpenAPISpec, APIOperation\n",
    "from langchain.chains import OpenAPIEndpointChain\n",
    "from langchain.requests import Requests\n",
    "from langchain.chat_models import ChatOpenAI\n",
    "from langchain.agents.agent_toolkits.openapi.spec import reduce_openapi_spec\n",
    "\n",
    "import dotenv\n",
    "import pprint\n",
    "\n",
    "dotenv.load_dotenv()\n",
    "\n",
    "pp = pprint.PrettyPrinter(indent=4)"
   ]
  },
  {
   "cell_type": "markdown",
   "metadata": {},
   "source": [
    "Read the spec, create operations for endpoints, create a new chain."
   ]
  },
  {
   "cell_type": "code",
   "execution_count": 2,
   "metadata": {},
   "outputs": [
    {
     "name": "stderr",
     "output_type": "stream",
     "text": [
      "Attempting to load an OpenAPI 3.0.2 spec.  This may result in degraded performance. Convert your OpenAPI spec to 3.1.* spec for better support.\n"
     ]
    }
   ],
   "source": [
    "spec = OpenAPISpec.from_file(\"openapi.json\")\n",
    "\n",
    "search_op = APIOperation.from_openapi_spec(spec, '/search', \"get\")\n",
    "#d2p_op = APIOperation.from_openapi_spec(spec, '/disease-phenotypes', \"get\") # not used\n",
    "\n",
    "llm = ChatOpenAI(model = \"gpt-4\") # Load a Language Model\n",
    "\n",
    "chain = OpenAPIEndpointChain.from_api_operation(\n",
    "    search_op, \n",
    "    llm, \n",
    "    requests=Requests(), \n",
    "    verbose=True,\n",
    "    return_intermediate_steps=True # Return request and response text\n",
    ")\n"
   ]
  },
  {
   "cell_type": "markdown",
   "metadata": {},
   "source": [
    "Run it:"
   ]
  },
  {
   "cell_type": "code",
   "execution_count": 3,
   "metadata": {},
   "outputs": [
    {
     "name": "stdout",
     "output_type": "stream",
     "text": [
      "\n",
      "\n",
      "\u001b[1m> Entering new OpenAPIEndpointChain chain...\u001b[0m\n",
      "\n",
      "\n",
      "\u001b[1m> Entering new APIRequesterChain chain...\u001b[0m\n",
      "Prompt after formatting:\n",
      "\u001b[32;1m\u001b[1;3mYou are a helpful AI Assistant. Please provide JSON arguments to agentFunc() based on the user's instructions.\n",
      "\n",
      "API_SCHEMA: ```typescript\n",
      "/* Search for entities in the Monarch knowledge graph */\n",
      "type search_entity = (_: {\n",
      "/* The ontology term to search for. */\n",
      "\t\tterm: string,\n",
      "/* A single category to search within as a string. Valid categories are: biolink:Disease, biolink:PhenotypicQuality, and biolink:Gene */\n",
      "\t\tcategory?: string,\n",
      "/* The maximum number of search results to return. */\n",
      "\t\tlimit?: number,\n",
      "/* Offset for pagination of results */\n",
      "\t\toffset?: number,\n",
      "}) => any;\n",
      "```\n",
      "\n",
      "USER_INSTRUCTIONS: \"What phenotypes are associated with Cystic Fibrosis?\"\n",
      "\n",
      "Your arguments must be plain json provided in a markdown block:\n",
      "\n",
      "ARGS: ```json\n",
      "{valid json conforming to API_SCHEMA}\n",
      "```\n",
      "\n",
      "Example\n",
      "-----\n",
      "\n",
      "ARGS: ```json\n",
      "{\"foo\": \"bar\", \"baz\": {\"qux\": \"quux\"}}\n",
      "```\n",
      "\n",
      "The block must be no more than 1 line long, and all arguments must be valid JSON. All string arguments must be wrapped in double quotes.\n",
      "You MUST strictly comply to the types indicated by the provided schema, including all required args.\n",
      "\n",
      "If you don't have sufficient information to call the function due to things like requiring specific uuid's, you can reply with the following message:\n",
      "\n",
      "Message: ```text\n",
      "Concise response requesting the additional information that would make calling the function successful.\n",
      "```\n",
      "\n",
      "Begin\n",
      "-----\n",
      "ARGS:\n",
      "\u001b[0m\n",
      "\n",
      "\u001b[1m> Finished chain.\u001b[0m\n",
      "\u001b[32;1m\u001b[1;3m{\"term\": \"Cystic Fibrosis\", \"category\": \"biolink:PhenotypicQuality\", \"limit\": 10, \"offset\": 0}\u001b[0m\n",
      "\u001b[36;1m\u001b[1;3m{\"results\":[{\"id\":\"MONDO:0009061\",\"name\":\"cystic fibrosis\",\"categories\":[\"biolink:Disease\"],\"description\":\"Cystic fibrosis (CF) is a genetic disorder characterized by the production of sweat with a high salt content and mucus secretions with an abnormal viscosity.\"},{\"id\":\"MONDO:0005413\",\"name\":\"cystic fibrosis associated meconium ileus\",\"categories\":[\"biolink:Disease\"],\"description\":\"Cystic fibrosis associated meconium ileum is a thickening and congestion of the meconium in the ileum in newborns, often the first sign of cystic fibrosis. In cystic fibrosis, the meconium can form a bituminous black-green mechanical obstruction in a segment of the ileum. Beyond this there may be a few separate grey-white globular pellets. Below this level, the bowel is a narrow and empty micro-colon. Above the level of the obstruction, there are several loops of hypertrophied bowel distended with fluid. No meconium is passed, and abdominal distension and vomiting appear soon after birth. About 20% of cases of cystic fibrosis present with meconium ileus, while approximately 20% of one series of cases of meconium ileus did not have cystic fibrosis. The presence of meconium ileus is not related to the severity of the cystic fibrosis.\"},{\"id\":\"MONDO:0009062\",\"name\":\"cystic fibrosis-gastritis-megaloblastic anemia syndrome\",\"categories\":[\"biolink:Disease\"],\"description\":\"A rare genetic disease reported in two siblings of consanguineous Arab parents and is characterized by cystic fibrosis, gastritis associated with Helicobacter pylori, folate deficiency megaloblastic anemia, and intellectual disability. There have been no further descriptions in the literature since 1991.\"},{\"id\":\"HGNC:51351\",\"name\":\"CFTR pseudogene 2\",\"categories\":[\"biolink:Gene\"],\"description\":null},{\"id\":\"HGNC:51352\",\"name\":\"CFTR pseudogene 3\",\"categories\":[\"biolink:Gene\"],\"description\":null},{\"id\":\"HGNC:16182\",\"name\":\"CFTR pseudogene 1\",\"categories\":[\"biolink:Gene\"],\"description\":null},{\"id\":\"HGNC:10498\",\"name\":\"S100 calcium binding protein A8\",\"categories\":[\"biolink:Gene\"],\"description\":null},{\"id\":\"HGNC:1884\",\"name\":\"CF transmembrane conductance regulator\",\"categories\":[\"biolink:Gene\"],\"description\":null},{\"id\":\"REACT:R-HSA-5678895\",\"name\":\"Defective CFTR causes cystic fibrosis\",\"categories\":[\"biolink:Pathway\"],\"description\":null},{\"id\":\"Xenbase:XB-GENE-853972\",\"name\":\"cystic fibrosis transmembrane conductance regulator\",\"categories\":[\"biolink:Gene\"],\"description\":null}],\"total\":16}\u001b[0m\n",
      "\n",
      "\n",
      "\u001b[1m> Entering new APIResponderChain chain...\u001b[0m\n",
      "Prompt after formatting:\n",
      "\u001b[32;1m\u001b[1;3mYou are a helpful AI assistant trained to answer user queries from API responses.\n",
      "You attempted to call an API, which resulted in:\n",
      "API_RESPONSE: {\"results\":[{\"id\":\"MONDO:0009061\",\"name\":\"cystic fibrosis\",\"categories\":[\"biolink:Disease\"],\"description\":\"Cystic fibrosis (CF) is a genetic disorder characterized by the production of sweat with a high salt content and mucus secretions with an abnormal viscosity.\"},{\"id\":\"MONDO:0005413\",\"name\":\"cystic fibrosis associated meconium ileus\",\"categories\":[\"biolink:Disease\"],\"description\":\"Cystic fibrosis associated meconium ileum is a thickening and congestion of the meconium in the ileum in newborns, often the first sign of cystic fibrosis. In cystic fibrosis, the meconium can form a bituminous black-green mechanical obstruction in a segment of the ileum. Beyond this there may be a few separate grey-white globular pellets. Below this level, the bowel is a narrow and empty micro-colon. Above the level of the obstruction, there are several loops of hypertrophied bowel distended with fluid. No meconium is passed, and abdominal distension and vomiting appear soon after birth. About 20% of cases of cystic fibrosis present with meconium ileus, while approximately 20% of one series of cases of meconium ileus did not have cystic fibrosis. The presence of meconium ileus is not related to the severity of the cystic fibrosis.\"},{\"id\":\"MONDO:0009062\",\"name\":\"cystic fibrosis-gastritis-megaloblastic anemia syndrome\",\"categories\":[\"biolink:Disease\"],\"description\":\"A rare genetic disease reported in two siblings of consanguineous Arab parents and is characterized by cystic fibrosis, gastritis associated with Helicobacter pylori, folate deficiency megaloblastic anemia, and intellectual disability. There have been no further descriptions in the literature since 1991.\"},{\"id\":\"HGNC:51351\",\"name\":\"CFTR pseudogene 2\",\"categories\":[\"biolink:Gene\"],\"description\":null},{\"id\":\"HGNC:51352\",\"name\":\"CFTR pseudogene 3\",\"categories\":[\"biolink:Gene\"],\"description\":null},{\"id\":\"HGNC:16182\",\"name\":\"CFTR pseudogene 1\",\"categories\":[\"biolink:Gene\"],\"description\":null},{\"id\":\"HGNC:10498\",\"name\":\"S100 calcium binding protein A8\",\"categories\":[\"biolink:Gene\"],\"description\":null},{\"id\":\"HGNC:1884\",\"name\":\"CF transmembrane conductance regulator\",\"categories\":[\"biolink:Gene\"],\"description\":null},{\"id\":\"REACT:R-HSA-5678895\",\"name\":\"Defective CFTR causes cystic fibrosis\",\"categories\":[\"biolink:Pathway\"],\"description\":null},{\"id\":\"Xenbase:XB-GENE-853972\",\"name\":\"cystic fibrosis transmembrane conductance regulator\",\"categories\":[\"biolink:Gene\"],\"description\":null}],\"total\":16}\n",
      "\n",
      "USER_COMMENT: \"What phenotypes are associated with Cystic Fibrosis?\"\n",
      "\n",
      "\n",
      "If the API_RESPONSE can answer the USER_COMMENT respond with the following markdown json block:\n",
      "Response: ```json\n",
      "{\"response\": \"Human-understandable synthesis of the API_RESPONSE\"}\n",
      "```\n",
      "\n",
      "Otherwise respond with the following markdown json block:\n",
      "Response Error: ```json\n",
      "{\"response\": \"What you did and a concise statement of the resulting error. If it can be easily fixed, provide a suggestion.\"}\n",
      "```\n",
      "\n",
      "You MUST respond as a markdown json code block. The person you are responding to CANNOT see the API_RESPONSE, so if there is any relevant information there you must include it in your response.\n",
      "\n",
      "Begin:\n",
      "---\n",
      "\u001b[0m\n",
      "\n",
      "\u001b[1m> Finished chain.\u001b[0m\n",
      "\u001b[33;1m\u001b[1;3mCystic fibrosis is a genetic disorder characterized by the production of sweat with a high salt content and mucus secretions with an abnormal viscosity. Some phenotypes associated with cystic fibrosis include cystic fibrosis associated meconium ileus, which is a thickening and congestion of the meconium in the ileum in newborns, and cystic fibrosis-gastritis-megaloblastic anemia syndrome, a rare genetic disease characterized by cystic fibrosis, gastritis associated with Helicobacter pylori, folate deficiency megaloblastic anemia, and intellectual disability.\u001b[0m\n",
      "\n",
      "\u001b[1m> Finished chain.\u001b[0m\n",
      "CPU times: user 30.4 ms, sys: 7 ms, total: 37.4 ms\n",
      "Wall time: 21.8 s\n"
     ]
    }
   ],
   "source": [
    "%%time\n",
    "output = chain(\"What phenotypes are associated with Cystic Fibrosis?\")"
   ]
  },
  {
   "cell_type": "markdown",
   "metadata": {},
   "source": [
    "Notice in the below output there is some gene information that is included from the search results (it defaulted to 10 results)."
   ]
  },
  {
   "cell_type": "code",
   "execution_count": 4,
   "metadata": {},
   "outputs": [
    {
     "name": "stdout",
     "output_type": "stream",
     "text": [
      "{   'instructions': 'What phenotypes are associated with Cystic Fibrosis?',\n",
      "    'intermediate_steps': {   'request_args': '{\"term\": \"Cystic Fibrosis\", '\n",
      "                                              '\"category\": '\n",
      "                                              '\"biolink:PhenotypicQuality\", '\n",
      "                                              '\"limit\": 10, \"offset\": 0}',\n",
      "                              'response_text': '{\"results\":[{\"id\":\"MONDO:0009061\",\"name\":\"cystic '\n",
      "                                               'fibrosis\",\"categories\":[\"biolink:Disease\"],\"description\":\"Cystic '\n",
      "                                               'fibrosis (CF) is a genetic '\n",
      "                                               'disorder characterized by the '\n",
      "                                               'production of sweat with a '\n",
      "                                               'high salt content and mucus '\n",
      "                                               'secretions with an abnormal '\n",
      "                                               'viscosity.\"},{\"id\":\"MONDO:0005413\",\"name\":\"cystic '\n",
      "                                               'fibrosis associated meconium '\n",
      "                                               'ileus\",\"categories\":[\"biolink:Disease\"],\"description\":\"Cystic '\n",
      "                                               'fibrosis associated meconium '\n",
      "                                               'ileum is a thickening and '\n",
      "                                               'congestion of the meconium in '\n",
      "                                               'the ileum in newborns, often '\n",
      "                                               'the first sign of cystic '\n",
      "                                               'fibrosis.\\xa0In cystic '\n",
      "                                               'fibrosis, the meconium can '\n",
      "                                               'form a bituminous black-green '\n",
      "                                               'mechanical obstruction in a '\n",
      "                                               'segment of the ileum. Beyond '\n",
      "                                               'this there may be a few '\n",
      "                                               'separate grey-white globular '\n",
      "                                               'pellets. Below this level, the '\n",
      "                                               'bowel is a narrow and empty '\n",
      "                                               'micro-colon. Above the level '\n",
      "                                               'of the obstruction, there are '\n",
      "                                               'several loops of hypertrophied '\n",
      "                                               'bowel distended with fluid. No '\n",
      "                                               'meconium is passed, and '\n",
      "                                               'abdominal distension and '\n",
      "                                               'vomiting appear soon after '\n",
      "                                               'birth. About 20% of cases of '\n",
      "                                               'cystic fibrosis present with '\n",
      "                                               'meconium ileus, while '\n",
      "                                               'approximately 20% of one '\n",
      "                                               'series of cases of meconium '\n",
      "                                               'ileus did not have cystic '\n",
      "                                               'fibrosis.\\xa0The presence of '\n",
      "                                               'meconium ileus is not related '\n",
      "                                               'to the severity of the cystic '\n",
      "                                               'fibrosis.\"},{\"id\":\"MONDO:0009062\",\"name\":\"cystic '\n",
      "                                               'fibrosis-gastritis-megaloblastic '\n",
      "                                               'anemia '\n",
      "                                               'syndrome\",\"categories\":[\"biolink:Disease\"],\"description\":\"A '\n",
      "                                               'rare genetic disease reported '\n",
      "                                               'in two siblings of '\n",
      "                                               'consanguineous Arab parents '\n",
      "                                               'and is characterized by cystic '\n",
      "                                               'fibrosis, gastritis associated '\n",
      "                                               'with Helicobacter pylori, '\n",
      "                                               'folate deficiency '\n",
      "                                               'megaloblastic anemia, and '\n",
      "                                               'intellectual disability. There '\n",
      "                                               'have been no further '\n",
      "                                               'descriptions in the literature '\n",
      "                                               'since '\n",
      "                                               '1991.\"},{\"id\":\"HGNC:51351\",\"name\":\"CFTR '\n",
      "                                               'pseudogene '\n",
      "                                               '2\",\"categories\":[\"biolink:Gene\"],\"description\":null},{\"id\":\"HGNC:51352\",\"name\":\"CFTR '\n",
      "                                               'pseudogene '\n",
      "                                               '3\",\"categories\":[\"biolink:Gene\"],\"description\":null},{\"id\":\"HGNC:16182\",\"name\":\"CFTR '\n",
      "                                               'pseudogene '\n",
      "                                               '1\",\"categories\":[\"biolink:Gene\"],\"description\":null},{\"id\":\"HGNC:10498\",\"name\":\"S100 '\n",
      "                                               'calcium binding protein '\n",
      "                                               'A8\",\"categories\":[\"biolink:Gene\"],\"description\":null},{\"id\":\"HGNC:1884\",\"name\":\"CF '\n",
      "                                               'transmembrane conductance '\n",
      "                                               'regulator\",\"categories\":[\"biolink:Gene\"],\"description\":null},{\"id\":\"REACT:R-HSA-5678895\",\"name\":\"Defective '\n",
      "                                               'CFTR causes cystic '\n",
      "                                               'fibrosis\",\"categories\":[\"biolink:Pathway\"],\"description\":null},{\"id\":\"Xenbase:XB-GENE-853972\",\"name\":\"cystic '\n",
      "                                               'fibrosis transmembrane '\n",
      "                                               'conductance '\n",
      "                                               'regulator\",\"categories\":[\"biolink:Gene\"],\"description\":null}],\"total\":16}'},\n",
      "    'output': 'Cystic fibrosis is a genetic disorder characterized by the '\n",
      "              'production of sweat with a high salt content and mucus '\n",
      "              'secretions with an abnormal viscosity. Some phenotypes '\n",
      "              'associated with cystic fibrosis include cystic fibrosis '\n",
      "              'associated meconium ileus, which is a thickening and congestion '\n",
      "              'of the meconium in the ileum in newborns, and cystic '\n",
      "              'fibrosis-gastritis-megaloblastic anemia syndrome, a rare '\n",
      "              'genetic disease characterized by cystic fibrosis, gastritis '\n",
      "              'associated with Helicobacter pylori, folate deficiency '\n",
      "              'megaloblastic anemia, and intellectual disability.'}\n"
     ]
    }
   ],
   "source": [
    "pp.pprint(output)"
   ]
  }
 ],
 "metadata": {
  "kernelspec": {
   "display_name": "Python 3 (ipykernel)",
   "language": "python",
   "name": "python3"
  },
  "language_info": {
   "codemirror_mode": {
    "name": "ipython",
    "version": 3
   },
   "file_extension": ".py",
   "mimetype": "text/x-python",
   "name": "python",
   "nbconvert_exporter": "python",
   "pygments_lexer": "ipython3",
   "version": "3.11.2"
  }
 },
 "nbformat": 4,
 "nbformat_minor": 2
}
