{
 "cells": [
  {
   "cell_type": "markdown",
   "id": "87b526bf",
   "metadata": {},
   "source": [
    "## langchain.chains.APIChain\n",
    "\n",
    "This appears to be the most basic langchain API-calling feature. The API endpoint is given in plain text (in a semi-tabular format), and there doesn't appear to be any planning for using multiple endpoints if required."
   ]
  },
  {
   "cell_type": "code",
   "execution_count": 1,
   "id": "b9688f19",
   "metadata": {},
   "outputs": [],
   "source": [
    "from langchain.chains import APIChain\n",
    "from langchain.chat_models import ChatOpenAI\n",
    "\n",
    "import pprint\n",
    "import dotenv\n",
    "\n",
    "dotenv.load_dotenv()\n",
    "\n",
    "pp = pprint.PrettyPrinter(indent=4)"
   ]
  },
  {
   "cell_type": "markdown",
   "id": "e8780568",
   "metadata": {},
   "source": [
    "Load a model, load the docs and create the chain. In this utility, we give the documentation in a semi-tabular form. See https://python.langchain.com/en/latest/modules/chains/examples/api.html?highlight=APIChain."
   ]
  },
  {
   "cell_type": "code",
   "execution_count": 2,
   "id": "6165204e",
   "metadata": {},
   "outputs": [
    {
     "name": "stdout",
     "output_type": "stream",
     "text": [
      "API documentation:\n",
      "Endpoint: http://localhost:3434\n",
      "\n",
      "GET /search\n",
      "\n",
      "This endpoint is for searching for biomedical entities such as Diseases, Genes, and Phenotypes, by their common name.\n",
      "\n",
      "Query parameters table:\n",
      "term | string | Search term, e.g., \"Marfan's Syndrome\", \"CYP6B\", \"Microcephaly\" | required\n",
      "category | string | What category to search in? Available values: biolink:Disease, biolink:Gene, biolink:Phenotype | required\n",
      "limit | integer | Maximum number of results to return. A valid value should be an integer between 1 and 10 (inclusive) | required\n",
      "offset | integer | Number of results to skip (for pagination) | required\n",
      "\n",
      "Response schema (JSON object):\n",
      "results | array[object] | Array of Match Result Objects\n",
      "total | integer | Total number of matches in the database\n",
      "\n",
      "Each object in the \"results\" key has the following schema:\n",
      "id | string | The CURIE identifier for the match\n",
      "name | string | The human-readable name of the match\n",
      "categories | string | A list of categories the match belongs to\n",
      "description | string | A text description of the entity\n",
      "\n",
      "GET /disease-phenotypes\n",
      "\n",
      "This endpoint is for finding phenotypes associated with a given disease.\n",
      "\n",
      "disease_id | string | CURIE identifier for the disease, e.g. \"MONDO:2490133\"\n",
      "limit | integer | Maximum number of results to return. A valid value should be an integer between 1 and 10 (inclusive) | required\n",
      "offset | integer | Number of results to skip (for pagination) | required\n",
      "\n",
      "Response schema (JSON object):\n",
      "associations | array[object] | Array of associated phenotypes\n",
      "total | integer | Total number of associations in the database\n",
      "\n",
      "Each object in the \"associations\" key has the following schema:\n",
      "id | string | The identifier of the association\n",
      "frequency_qualifier | string | A CURIE representing frequency information for the disease phenotype\n",
      "onset_qualifier | string | A CURIE representing onset information for the disease phenotype\n",
      "phenotype | object | A text description of the entity\n",
      "\n",
      "Each phenotype object as the following schema:\n",
      "id | A CURIE specific to the phenotype\n",
      "label | A human-readable label for the phenotype\n"
     ]
    }
   ],
   "source": [
    "llm = ChatOpenAI(model = \"gpt-4\", temperature=0)\n",
    "\n",
    "with open(\"monarch_wrapper_docs.txt\") as f:\n",
    "    docs = f.read()\n",
    "    \n",
    "print(docs)\n",
    "\n",
    "chain_new = APIChain.from_llm_and_api_docs(llm, docs, verbose=True)"
   ]
  },
  {
   "cell_type": "markdown",
   "id": "72bc4697",
   "metadata": {},
   "source": [
    "Run a query"
   ]
  },
  {
   "cell_type": "code",
   "execution_count": 3,
   "id": "25904b1a",
   "metadata": {},
   "outputs": [
    {
     "name": "stdout",
     "output_type": "stream",
     "text": [
      "\n",
      "\n",
      "\u001b[1m> Entering new APIChain chain...\u001b[0m\n",
      "\u001b[32;1m\u001b[1;3mhttp://localhost:3434/search?term=Cystic%20Fibrosis&category=biolink:Disease&limit=1&offset=0\u001b[0m\n",
      "\u001b[33;1m\u001b[1;3m{\"results\":[{\"id\":\"MONDO:0009061\",\"name\":\"cystic fibrosis\",\"categories\":[\"biolink:Disease\"],\"description\":\"Cystic fibrosis (CF) is a genetic disorder characterized by the production of sweat with a high salt content and mucus secretions with an abnormal viscosity.\"}],\"total\":16}\u001b[0m\n",
      "\n",
      "\u001b[1m> Finished chain.\u001b[0m\n",
      "CPU times: user 29.7 ms, sys: 8.79 ms, total: 38.4 ms\n",
      "Wall time: 12.5 s\n"
     ]
    }
   ],
   "source": [
    "%%time\n",
    "output = chain_new.run(\"What phenotypes are associated with Cystic Fibrosis?\")"
   ]
  },
  {
   "cell_type": "code",
   "execution_count": 4,
   "id": "44b5a41f",
   "metadata": {},
   "outputs": [
    {
     "name": "stdout",
     "output_type": "stream",
     "text": [
      "('Cystic Fibrosis (CF) is a genetic disorder characterized by the production '\n",
      " 'of sweat with a high salt content and mucus secretions with an abnormal '\n",
      " 'viscosity. The disease has the identifier MONDO:0009061.')\n"
     ]
    }
   ],
   "source": [
    "pp.pprint(output)"
   ]
  }
 ],
 "metadata": {
  "kernelspec": {
   "display_name": "Python 3 (ipykernel)",
   "language": "python",
   "name": "python3"
  },
  "language_info": {
   "codemirror_mode": {
    "name": "ipython",
    "version": 3
   },
   "file_extension": ".py",
   "mimetype": "text/x-python",
   "name": "python",
   "nbconvert_exporter": "python",
   "pygments_lexer": "ipython3",
   "version": "3.11.2"
  }
 },
 "nbformat": 4,
 "nbformat_minor": 5
}
